{
  "nbformat": 4,
  "nbformat_minor": 0,
  "metadata": {
    "colab": {
      "provenance": [],
      "authorship_tag": "ABX9TyOkshulTt1rPf4ncATAVqcT",
      "include_colab_link": true
    },
    "kernelspec": {
      "name": "python3",
      "display_name": "Python 3"
    },
    "language_info": {
      "name": "python"
    }
  },
  "cells": [
    {
      "cell_type": "markdown",
      "metadata": {
        "id": "view-in-github",
        "colab_type": "text"
      },
      "source": [
        "<a href=\"https://colab.research.google.com/github/vbncml/expert_system_chatbot/blob/main/Local_vector_loader_public.ipynb\" target=\"_parent\"><img src=\"https://colab.research.google.com/assets/colab-badge.svg\" alt=\"Open In Colab\"/></a>"
      ]
    },
    {
      "cell_type": "code",
      "execution_count": null,
      "metadata": {
        "id": "kM0BAIGFjK6j"
      },
      "outputs": [],
      "source": [
        "# install all libs and packages\n",
        "!pip install pypdf\n",
        "!pip install cohere\n",
        "!pip install langchain\n",
        "!pip install python-dotenv\n",
        "!pip install openai\n",
        "!pip install tiktoken\n",
        "!pip install unstructured\n",
        "!pip install pdf2image\n",
        "!pip install pdfminer\n",
        "!pip install kaleido\n",
        "!pip install python-multipart\n",
        "!pip install chromadb\n",
        "!pip install -U langchain-openai"
      ]
    },
    {
      "cell_type": "code",
      "source": [
        "from langchain.document_loaders import UnstructuredPDFLoader, OnlinePDFLoader, PyPDFLoader, TextLoader\n",
        "from langchain.text_splitter import RecursiveCharacterTextSplitter\n",
        "from dotenv import load_dotenv, find_dotenv\n",
        "import os\n",
        "\n",
        "load_dotenv(find_dotenv())"
      ],
      "metadata": {
        "colab": {
          "base_uri": "https://localhost:8080/"
        },
        "id": "5R4pufp6jkRK",
        "outputId": "28134d38-fa27-425a-dd77-784997ac370f"
      },
      "execution_count": null,
      "outputs": [
        {
          "output_type": "execute_result",
          "data": {
            "text/plain": [
              "False"
            ]
          },
          "metadata": {},
          "execution_count": 2
        }
      ]
    },
    {
      "cell_type": "code",
      "source": [
        "loader = PyPDFLoader(\"/content/doc_1_updated.pdf\")"
      ],
      "metadata": {
        "id": "2nLwtvYdj12m"
      },
      "execution_count": null,
      "outputs": []
    },
    {
      "cell_type": "code",
      "source": [
        "data = loader.load()\n",
        "print (f'You have {len(data)} document(s) in your data')\n",
        "print (f'There are {len(data[0].page_content)} characters in your sample document')\n",
        "print (f'Here is a sample: {data[0].page_content[:200]}')"
      ],
      "metadata": {
        "id": "bTw6CuhMlG6W"
      },
      "execution_count": null,
      "outputs": []
    },
    {
      "cell_type": "code",
      "source": [
        "text_splitter = RecursiveCharacterTextSplitter(chunk_size=500, chunk_overlap=50)\n",
        "texts = text_splitter.split_documents(data)\n",
        "\n",
        "print (f'Now you have {len(texts)} documents')"
      ],
      "metadata": {
        "colab": {
          "base_uri": "https://localhost:8080/"
        },
        "id": "2Fd9eZ8QlgB4",
        "outputId": "54157272-4251-4c9e-efc1-cb587e330e43"
      },
      "execution_count": null,
      "outputs": [
        {
          "output_type": "stream",
          "name": "stdout",
          "text": [
            "Now you have 505 documents\n"
          ]
        }
      ]
    },
    {
      "cell_type": "code",
      "source": [
        "from langchain.vectorstores import Chroma\n",
        "from langchain.embeddings.openai import OpenAIEmbeddings\n",
        "\n",
        "\n",
        "OPENAI_API_KEY = os.getenv('OPENAI_API_KEY', 'API key')\n",
        "embeddings = OpenAIEmbeddings(openai_api_key=OPENAI_API_KEY)"
      ],
      "metadata": {
        "colab": {
          "base_uri": "https://localhost:8080/"
        },
        "id": "3J79Pa8jmRtt",
        "outputId": "0cc61381-ac9d-441e-e571-356725f1ad8f"
      },
      "execution_count": null,
      "outputs": [
        {
          "output_type": "stream",
          "name": "stderr",
          "text": [
            "/usr/local/lib/python3.10/dist-packages/langchain_core/_api/deprecation.py:117: LangChainDeprecationWarning: The class `langchain_community.embeddings.openai.OpenAIEmbeddings` was deprecated in langchain-community 0.1.0 and will be removed in 0.2.0. An updated version of the class exists in the langchain-openai package and should be used instead. To use it run `pip install -U langchain-openai` and import as `from langchain_openai import OpenAIEmbeddings`.\n",
            "  warn_deprecated(\n"
          ]
        }
      ]
    },
    {
      "cell_type": "code",
      "source": [
        "persist_directory = '/content/'"
      ],
      "metadata": {
        "id": "nfEZL_96b5aE"
      },
      "execution_count": null,
      "outputs": []
    },
    {
      "cell_type": "code",
      "source": [
        "# load it into Chroma\n",
        "vectorstore = Chroma.from_documents(texts, embeddings, persist_directory=persist_directory)"
      ],
      "metadata": {
        "id": "qg9cFf-NmdyB"
      },
      "execution_count": null,
      "outputs": []
    },
    {
      "cell_type": "code",
      "source": [
        "vectorstore.persist()"
      ],
      "metadata": {
        "id": "AZaWwfCDcKkP"
      },
      "execution_count": null,
      "outputs": []
    },
    {
      "cell_type": "code",
      "source": [
        "vectorstore=None\n",
        "vectorstore=Chroma(persist_directory=persist_directory, embedding_function=embeddings)\n",
        "vectorstore.get()"
      ],
      "metadata": {
        "id": "q9kECvmTclJB"
      },
      "execution_count": null,
      "outputs": []
    },
    {
      "cell_type": "code",
      "source": [
        "query = \"Что такое типовая учебная программа?\"\n",
        "docs = vectorstore.similarity_search(query)\n",
        "# Here's an example of the first document that was returned\n",
        "for doc in docs:\n",
        "    print (f\"{doc.page_content}\\n\")"
      ],
      "metadata": {
        "colab": {
          "base_uri": "https://localhost:8080/"
        },
        "id": "JTHpVYnXmkhK",
        "outputId": "283a0c17-af56-4ed5-e216-15c670b02579"
      },
      "execution_count": null,
      "outputs": [
        {
          "output_type": "stream",
          "name": "stdout",
          "text": [
            "3)\n",
            "типовая\n",
            "учебная\n",
            "программа\n",
            "–\n",
            "программа,\n",
            "определяющая\n",
            "содержание\n",
            "и\n",
            "объем\n",
            "знаний,\n",
            "умений,\n",
            "навыков\n",
            "и\n",
            "компетенций,\n",
            "подлежащих\n",
            "освоению,\n",
            "по\n",
            "каждому\n",
            "виду\n",
            "организованной\n",
            "учебной\n",
            "деятельности\n",
            "для\n",
            "воспитанников\n",
            "организаций\n",
            "дошкольного\n",
            "образования\n",
            "и\n",
            "каждому\n",
            "учебному\n",
            "предмету\n",
            "для\n",
            "обучающихся\n",
            "на\n",
            "уровне\n",
            "начального,\n",
            "основного\n",
            "среднего\n",
            "и\n",
            "общего\n",
            "среднего\n",
            "образования;\n",
            "     \n",
            "4)\n",
            "типовой\n",
            "учебный\n",
            "план\n",
            "–\n",
            "документ,\n",
            "регламентирующий\n",
            "перечень,\n",
            "последовательность\n",
            "и\n",
            "объем\n",
            "организованной\n",
            "учебной\n",
            "деятельности\n",
            "для\n",
            "\n",
            "государственных\n",
            "общеобязательных\n",
            "стандартов\n",
            "образования,\n",
            "типовых\n",
            "учебных\n",
            "планов\n",
            "и\n",
            "типовых\n",
            "учебных\n",
            "программ\n",
            "(далее\n",
            "–\n",
            "Разработчик);\n",
            "     \n",
            "2)\n",
            "ожидаемые\n",
            "результаты\n",
            "–\n",
            "совокупность\n",
            "компетенций,\n",
            "выражающих,\n",
            "что\n",
            "именно\n",
            "воспитанник/обучающийся\n",
            "будет\n",
            "знать,\n",
            "понимать,\n",
            "демонстрировать\n",
            "по\n",
            "завершении\n",
            "всей\n",
            "или\n",
            "части\n",
            "типовой\n",
            "учебной\n",
            "программы,\n",
            "в\n",
            "том\n",
            "числе\n",
            "с\n",
            "учетом\n",
            "особых\n",
            "образовательных\n",
            "потребностей\n",
            "и\n",
            "индивидуальных\n",
            "возможностей\n",
            "воспитанников/обучающихся;\n",
            "     \n",
            "3)\n",
            "типовая\n",
            "учебная\n",
            "программа\n",
            "–\n",
            "программа,\n",
            "\n",
            "программ\n",
            "и\n",
            "выносит\n",
            "заключение\n",
            "\"Направляется\n",
            "на\n",
            "апробацию\".\n",
            "     \n",
            "14.\n",
            "Повторное\n",
            "внесение\n",
            "проектов\n",
            "типовых\n",
            "учебных\n",
            "планов\n",
            "и\n",
            "типовых\n",
            "учебных\n",
            "программ\n",
            "на\n",
            "экспертизу\n",
            "допускается\n",
            "один\n",
            "раз\n",
            "в\n",
            "течение\n",
            "календарного\n",
            "года.\n",
            "\n",
            "потребностей,\n",
            "целей\n",
            "и\n",
            "задач\n",
            "обучения\n",
            "детей\n",
            "с\n",
            "особыми\n",
            "образовательными\n",
            "потребностями.\n",
            "     \n",
            "9.\n",
            "При\n",
            "организации\n",
            "работы\n",
            "по\n",
            "экспертизе\n",
            "типовых\n",
            "учебных\n",
            "программ\n",
            "экспертными\n",
            "группами\n",
            "определяются:\n",
            "     \n",
            "1)\n",
            "соответствие\n",
            "типовых\n",
            "учебных\n",
            "программ\n",
            "ГОСО;\n",
            "     \n",
            "2)\n",
            "соответствие\n",
            "типовых\n",
            "учебных\n",
            "программ\n",
            "следующей\n",
            "структуре:\n",
            "     \n",
            "пояснительная\n",
            "часть\n",
            "(цели\n",
            "и\n",
            "задачи);\n",
            "     \n",
            "особенности\n",
            "обучения\n",
            "по\n",
            "уровням\n",
            "образования\n",
            "и\n",
            "видам\n",
            "организаций\n",
            "образования;\n",
            "     \n",
            "базовое\n",
            "содержание\n",
            "организованной\n",
            "учебной\n",
            "деятельности\n",
            "\n"
          ]
        }
      ]
    },
    {
      "cell_type": "code",
      "source": [
        "from langchain_openai import ChatOpenAI\n",
        "from langchain.chains.question_answering import load_qa_chain\n",
        "\n",
        "llm = ChatOpenAI(temperature=0, openai_api_key=OPENAI_API_KEY)\n",
        "chain = load_qa_chain(llm, chain_type=\"stuff\")"
      ],
      "metadata": {
        "id": "0X-qVtZCnnln"
      },
      "execution_count": null,
      "outputs": []
    },
    {
      "cell_type": "code",
      "source": [
        "query = \"Какие есть требования к текстам учебников?\"\n",
        "docs = vectorstore.similarity_search(query)"
      ],
      "metadata": {
        "id": "0Vc8yyDknzix"
      },
      "execution_count": null,
      "outputs": []
    },
    {
      "cell_type": "code",
      "source": [
        "chain.run(input_documents=docs, question=query)"
      ],
      "metadata": {
        "colab": {
          "base_uri": "https://localhost:8080/",
          "height": 177
        },
        "id": "PLh4ZUrUn2Li",
        "outputId": "f120d380-e972-4665-c961-ef4a9d9cf14f"
      },
      "execution_count": null,
      "outputs": [
        {
          "output_type": "stream",
          "name": "stderr",
          "text": [
            "/usr/local/lib/python3.10/dist-packages/langchain_core/_api/deprecation.py:117: LangChainDeprecationWarning: The function `run` was deprecated in LangChain 0.1.0 and will be removed in 0.2.0. Use invoke instead.\n",
            "  warn_deprecated(\n"
          ]
        },
        {
          "output_type": "execute_result",
          "data": {
            "text/plain": [
              "'Требования к текстам учебников включают:\\n\\n1) Соответствие государственным общеобязательным стандартам образования для различных уровней образования (дошкольного, начального, основного, среднего, технического, профессионального, послесреднего).\\n\\n2) Представление информации, которая соответствует типовой учебной программе, типовому учебному плану и учебнику.\\n\\n3) Включение заданий и упражнений, которые включают три этапа работы с текстом: предтекстовый, текстовый и послетекстовый.\\n\\n4) Взаимосвязь грамматических структур с лексическим материалом.\\n\\n5) Системность и логичность подачи грамматического материала.\\n\\n6) Соответствие учебных материалов интересам целевой аудитории.\\n\\nЭто основные требования к текстам учебников, но могут быть и другие специфические требования в зависимости от конкретного контекста и образовательной системы.'"
            ],
            "application/vnd.google.colaboratory.intrinsic+json": {
              "type": "string"
            }
          },
          "metadata": {},
          "execution_count": 17
        }
      ]
    },
    {
      "cell_type": "code",
      "source": [
        "query = \"оқулықтардың құрылымы нені қамтиды?\"\n",
        "docs = vectorstore.similarity_search(query)\n",
        "chain.run(input_documents=docs, question=query)"
      ],
      "metadata": {
        "id": "Tvm17iQNoOI8",
        "colab": {
          "base_uri": "https://localhost:8080/",
          "height": 35
        },
        "outputId": "83bb2e17-0437-4f29-b0aa-e9d23f87e397"
      },
      "execution_count": null,
      "outputs": [
        {
          "output_type": "execute_result",
          "data": {
            "text/plain": [
              "'Оқулықтардың құрылымы автормен дидактикалық жəне əдістемелік тұрғысынан өңделген жəне жүйеленген сөздік жəне иллюстрациялық оқу материалын қамтиды.'"
            ],
            "application/vnd.google.colaboratory.intrinsic+json": {
              "type": "string"
            }
          },
          "metadata": {},
          "execution_count": 21
        }
      ]
    },
    {
      "cell_type": "code",
      "source": [
        "query = \"какие есть дексрипторы у критерия 'Введение к разделу' \"\n",
        "docs = vectorstore.similarity_search(query)\n",
        "chain.run(input_documents=docs, question=query)"
      ],
      "metadata": {
        "id": "w0wqN8SGonWW",
        "colab": {
          "base_uri": "https://localhost:8080/",
          "height": 53
        },
        "outputId": "29e15316-c6e9-4b18-d873-645464153ade"
      },
      "execution_count": null,
      "outputs": [
        {
          "output_type": "execute_result",
          "data": {
            "text/plain": [
              "'Дескрипторы критерия \"Введение к разделу\" включают:\\n\\n1) Описаны цели обучения, понятные и мотивирующие учащихся.\\n2) Подводит обучающихся к основной теме.\\n3) Раскрывает последовательность содержания учебного материала, поясняет особенности изучения раздела.'"
            ],
            "application/vnd.google.colaboratory.intrinsic+json": {
              "type": "string"
            }
          },
          "metadata": {},
          "execution_count": 22
        }
      ]
    },
    {
      "cell_type": "code",
      "source": [
        "query = \"какие есть дексрипторы у критерия 'Соответствие языка изложения возрасту и познавательному уровню' ?\"\n",
        "docs = vectorstore.similarity_search(query)\n",
        "chain.run(input_documents=docs, question=query)"
      ],
      "metadata": {
        "colab": {
          "base_uri": "https://localhost:8080/",
          "height": 53
        },
        "id": "wj45PAWidxFj",
        "outputId": "242624ba-c4c5-4f29-a462-8503ead31fd7"
      },
      "execution_count": null,
      "outputs": [
        {
          "output_type": "execute_result",
          "data": {
            "text/plain": [
              "'Дескрипторы для критерия \"Соответствие языка изложения возрасту и познавательному уровню\" включают:\\n\\n1) Не менее 90% текста понятно при первом чтении.\\n2) Тексты увлекательные и интересные, способствуют обогащению словарного запаса.\\n3) Оптимальность структуры и объема предложений в текстах.'"
            ],
            "application/vnd.google.colaboratory.intrinsic+json": {
              "type": "string"
            }
          },
          "metadata": {},
          "execution_count": 25
        }
      ]
    },
    {
      "cell_type": "code",
      "source": [
        "query = \"'Бөлімге кіріспе' критерийдің қандай дескрипторлар бар?\"\n",
        "docs = vectorstore.similarity_search(query)\n",
        "chain.run(input_documents=docs, question=query)"
      ],
      "metadata": {
        "colab": {
          "base_uri": "https://localhost:8080/",
          "height": 70
        },
        "id": "T2qnvm2dd_Zc",
        "outputId": "1a78ce80-c553-47e8-a348-6388ff7a860e"
      },
      "execution_count": null,
      "outputs": [
        {
          "output_type": "execute_result",
          "data": {
            "text/plain": [
              "'Бөлімге кіріспе критерийінің дескрипторлары:\\n\\n1) Түсінікті жəне оқушыларды ынталандыратын оқыту мақсаттары сипатталған.\\n2) Білім алушыларды негізгі тақырыпты түсінуге бағыттайды.\\n3) Оқу материалы мазмұнының реттілігін ашады, бөлімді оқу ерекшеліктерін түсіндіреді.\\n\\nЕгер сізде басқа сұраулар болса, смайлықтарды пайдаланыңыз. 😊'"
            ],
            "application/vnd.google.colaboratory.intrinsic+json": {
              "type": "string"
            }
          },
          "metadata": {},
          "execution_count": 26
        }
      ]
    },
    {
      "cell_type": "code",
      "source": [],
      "metadata": {
        "id": "MNXgpYQjet4I"
      },
      "execution_count": null,
      "outputs": []
    }
  ]
}